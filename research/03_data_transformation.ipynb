{
 "cells": [
  {
   "cell_type": "code",
   "execution_count": 1,
   "metadata": {},
   "outputs": [],
   "source": [
    "import os"
   ]
  },
  {
   "cell_type": "code",
   "execution_count": 2,
   "metadata": {},
   "outputs": [
    {
     "data": {
      "text/plain": [
       "'c:\\\\Users\\\\Sanju\\\\WORKSPACE\\\\Late-Delivery-Classification-Machine-Learning-Project\\\\research'"
      ]
     },
     "execution_count": 2,
     "metadata": {},
     "output_type": "execute_result"
    }
   ],
   "source": [
    "%pwd"
   ]
  },
  {
   "cell_type": "code",
   "execution_count": 3,
   "metadata": {},
   "outputs": [],
   "source": [
    "os.chdir('../')"
   ]
  },
  {
   "cell_type": "code",
   "execution_count": 4,
   "metadata": {},
   "outputs": [
    {
     "data": {
      "text/plain": [
       "'c:\\\\Users\\\\Sanju\\\\WORKSPACE\\\\Late-Delivery-Classification-Machine-Learning-Project'"
      ]
     },
     "execution_count": 4,
     "metadata": {},
     "output_type": "execute_result"
    }
   ],
   "source": [
    "%pwd"
   ]
  },
  {
   "cell_type": "code",
   "execution_count": 5,
   "metadata": {},
   "outputs": [],
   "source": [
    "from dataclasses import dataclass\n",
    "from pathlib import Path\n",
    "\n",
    "\n",
    "@dataclass(frozen=True)\n",
    "class DataTransformationConfig:\n",
    "    root_dir: Path\n",
    "    preprocessor_path: Path\n",
    "    train_data_path: Path\n",
    "    test_data_path: Path\n",
    "    target_column: str"
   ]
  },
  {
   "cell_type": "code",
   "execution_count": 6,
   "metadata": {},
   "outputs": [],
   "source": [
    "from MLProject.constants import *\n",
    "from MLProject.utils.common import read_yaml, create_directories"
   ]
  },
  {
   "cell_type": "code",
   "execution_count": 7,
   "metadata": {},
   "outputs": [],
   "source": [
    "class ConfigurationManager:\n",
    "    def __init__(\n",
    "        self,\n",
    "        config_filepath = CONFIG_FILE_PATH,\n",
    "        params_filepath = PARAMS_FILE_PATH,\n",
    "        schema_filepath = SCHEMA_FILE_PATH):\n",
    "\n",
    "        self.config = read_yaml(config_filepath)\n",
    "        self.params = read_yaml(params_filepath)\n",
    "        self.schema = read_yaml(schema_filepath)\n",
    "\n",
    "        create_directories([self.config.artifacts_root])\n",
    "\n",
    "\n",
    "    \n",
    "    def get_data_transformation_config(self) -> DataTransformationConfig:\n",
    "        config = self.config.data_transformation\n",
    "        schema = self.schema.TARGET_COLUMN\n",
    "\n",
    "        create_directories([config.root_dir])\n",
    "\n",
    "        data_transformation_config = DataTransformationConfig(\n",
    "            root_dir = config.root_dir,\n",
    "            preprocessor_path=config.preprocessor_path,\n",
    "            train_data_path=config.train_data_path,\n",
    "            test_data_path=config.test_data_path,\n",
    "            target_column=schema.name\n",
    "        )\n",
    "\n",
    "        return data_transformation_config"
   ]
  },
  {
   "cell_type": "code",
   "execution_count": 8,
   "metadata": {},
   "outputs": [],
   "source": [
    "import os\n",
    "from MLProject import logger\n",
    "from sklearn.pipeline import Pipeline\n",
    "from sklearn.preprocessing import StandardScaler, OneHotEncoder, OrdinalEncoder\n",
    "from sklearn.impute import SimpleImputer\n",
    "from sklearn.compose import ColumnTransformer\n",
    "from MLProject.entity.config_entity import DataTransformationConfig\n",
    "from MLProject.utils.common import save_object\n",
    "import pandas as pd\n",
    "import scipy\n",
    "import numpy as np\n",
    "import pickle"
   ]
  },
  {
   "cell_type": "code",
   "execution_count": 9,
   "metadata": {},
   "outputs": [],
   "source": [
    "class DataTransformation:\n",
    "    def __init__(self, config: DataTransformationConfig):\n",
    "        self.config = config\n",
    "\n",
    "    def get_data_transformation_object(self):\n",
    "        try:\n",
    "            Numerical_cols = ['Days_for_shipment_(scheduled)', 'Benefit_per_order',\n",
    "                              'Sales_per_customer','Latitude', 'Longitude',\n",
    "                              'Order_Item_Discount', 'Order_Item_Discount_Rate',\n",
    "                              'Order_Item_Product_Price', 'Order_Item_Profit_Ratio',\n",
    "                              'Order_Item_Quantity', 'Sales', 'Order_Item_Total',\n",
    "                              'Order_Profit_Per_Order', 'Product_Price']\n",
    "            \n",
    "            nom_cat_cols = ['Type','Order_Status','Shipping_Mode']\n",
    "            \n",
    "            num_pipeline=Pipeline(\n",
    "                steps=[\n",
    "                    ('imputer', SimpleImputer(strategy='median'))\n",
    "                ]\n",
    "            )\n",
    "\n",
    "            # Nominal_Categorigal Pipeline\n",
    "            nom_cat_pipeline=Pipeline(\n",
    "                steps=[\n",
    "                    ('imputer',SimpleImputer(strategy='most_frequent')),\n",
    "                    ('OneHotEncoder', OneHotEncoder(drop='first'))\n",
    "                ]\n",
    "            )\n",
    "\n",
    "            preprocessor=ColumnTransformer([\n",
    "                ('num_pipeline',num_pipeline,Numerical_cols),\n",
    "                ('nom_cat_pipeline',nom_cat_pipeline,nom_cat_cols)\n",
    "            ])\n",
    "\n",
    "            return preprocessor\n",
    "\n",
    "        except Exception as e:\n",
    "            raise e\n",
    "        \n",
    "    def initiate_data_transformation(self):\n",
    "        train_df = pd.read_csv(self.config.train_data_path)\n",
    "        test_df = pd.read_csv(self.config.test_data_path)\n",
    "\n",
    "\n",
    "        train_df['Shipping_Mode']= train_df['Shipping_Mode'].replace('Same Day', 'Premium Class')\n",
    "        train_df['Order_Item_Discount_Rate']= train_df['Order_Item_Discount_Rate'].apply(lambda x: x*100)\n",
    "\n",
    "        test_df['Shipping_Mode']= test_df['Shipping_Mode'].replace('Same Day', 'Premium Class')\n",
    "        test_df['Order_Item_Discount_Rate']= test_df['Order_Item_Discount_Rate'].apply(lambda x: x*100)\n",
    "\n",
    "        input_feature_train_df = train_df.drop(columns=['Late_delivery_risk'])\n",
    "        target_feature_train_df = train_df['Late_delivery_risk']\n",
    "\n",
    "        input_feature_test_df = test_df.drop(columns=['Late_delivery_risk'])\n",
    "        target_feature_test_df = test_df['Late_delivery_risk']\n",
    "\n",
    "        preprocessing_obj = self.get_data_transformation_object()\n",
    "\n",
    "        input_feature_train_arr = pd.DataFrame(preprocessing_obj.fit_transform(input_feature_train_df), columns=preprocessing_obj.get_feature_names_out())\n",
    "        input_feature_test_arr = pd.DataFrame(preprocessing_obj.fit_transform(input_feature_test_df), columns=preprocessing_obj.get_feature_names_out())\n",
    "\n",
    "        train_arr = pd.concat([input_feature_train_arr, target_feature_train_df], axis=1)\n",
    "        test_arr = pd.concat([input_feature_test_arr, target_feature_test_df], axis=1)\n",
    "        \n",
    "        train_arr.columns = ['Days_for_shipment_(scheduled)','Benefit_per_order', 'Sales_per_customer',\n",
    "                             'Latitude', 'Longitude','Order_Item_Discount','Order_Item_Discount_Rate',\n",
    "                             'Order_Item_Product_Price','Order_Item_Profit_Ratio','Order_Item_Quantity', 'Sales',\n",
    "                             'Order_Item_Total','Order_Profit_Per_Order', 'Product_Price','Type_DEBIT', 'Type_PAYMENT',\n",
    "                             'Type_TRANSFER','Order_Status_CLOSED','Order_Status_COMPLETE','Order_Status_ON_HOLD',\n",
    "                             'Order_Status_PAYMENT_REVIEW','Order_Status_PENDING','Order_Status_PENDING_PAYMENT',\n",
    "                             'Order_Status_PROCESSING','Order_Status_SUSPECTED_FRAUD','Shipping_Mode_Premium Class',\n",
    "                             'Shipping_Mode_Second Class','Shipping_Mode_Standard Class','Late_delivery_risk']\n",
    "        \n",
    "        test_arr.columns = ['Days_for_shipment_(scheduled)','Benefit_per_order', 'Sales_per_customer',\n",
    "                             'Latitude', 'Longitude','Order_Item_Discount','Order_Item_Discount_Rate',\n",
    "                             'Order_Item_Product_Price','Order_Item_Profit_Ratio','Order_Item_Quantity', 'Sales',\n",
    "                             'Order_Item_Total','Order_Profit_Per_Order', 'Product_Price','Type_DEBIT', 'Type_PAYMENT',\n",
    "                             'Type_TRANSFER','Order_Status_CLOSED','Order_Status_COMPLETE','Order_Status_ON_HOLD',\n",
    "                             'Order_Status_PAYMENT_REVIEW','Order_Status_PENDING','Order_Status_PENDING_PAYMENT',\n",
    "                             'Order_Status_PROCESSING','Order_Status_SUSPECTED_FRAUD','Shipping_Mode_Premium Class',\n",
    "                             'Shipping_Mode_Second Class','Shipping_Mode_Standard Class','Late_delivery_risk']\n",
    "        \n",
    "        train_arr.to_csv(os.path.join(self.config.root_dir, 'trans_train.csv'), index=False)\n",
    "        test_arr.to_csv(os.path.join(self.config.root_dir, 'trans_test.csv'), index=False)\n",
    "\n",
    "        save_object(\n",
    "                file_path=self.config.preprocessor_path,\n",
    "                obj=preprocessing_obj\n",
    "            )\n",
    "\n",
    "        return (\n",
    "                train_arr,\n",
    "                test_arr,\n",
    "                self.config.preprocessor_path\n",
    "            )         "
   ]
  },
  {
   "cell_type": "code",
   "execution_count": 10,
   "metadata": {},
   "outputs": [
    {
     "name": "stdout",
     "output_type": "stream",
     "text": [
      "[2024-02-29 22:21:17,773: INFO: common: yaml file: config\\config.yaml loaded successfully]\n",
      "[2024-02-29 22:21:17,776: INFO: common: yaml file: params.yaml loaded successfully]\n",
      "[2024-02-29 22:21:17,778: INFO: common: yaml file: schema.yaml loaded successfully]\n",
      "[2024-02-29 22:21:17,779: INFO: common: created directory at: artifacts]\n",
      "[2024-02-29 22:21:17,780: INFO: common: created directory at: artifacts/data_transformation]\n"
     ]
    }
   ],
   "source": [
    "try:\n",
    "    config = ConfigurationManager()\n",
    "    data_transformation_config = config.get_data_transformation_config()\n",
    "    data_transformation = DataTransformation(config=data_transformation_config)\n",
    "    data_transformation.get_data_transformation_object()\n",
    "    data_transformation.initiate_data_transformation() \n",
    "except Exception as e:\n",
    "    raise e"
   ]
  },
  {
   "cell_type": "code",
   "execution_count": null,
   "metadata": {},
   "outputs": [],
   "source": []
  }
 ],
 "metadata": {
  "kernelspec": {
   "display_name": "myenv1",
   "language": "python",
   "name": "python3"
  },
  "language_info": {
   "codemirror_mode": {
    "name": "ipython",
    "version": 3
   },
   "file_extension": ".py",
   "mimetype": "text/x-python",
   "name": "python",
   "nbconvert_exporter": "python",
   "pygments_lexer": "ipython3",
   "version": "3.9.0"
  }
 },
 "nbformat": 4,
 "nbformat_minor": 2
}
